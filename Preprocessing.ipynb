{
 "cells": [
  {
   "cell_type": "code",
   "execution_count": 2,
   "id": "c8d5bb3e",
   "metadata": {},
   "outputs": [],
   "source": [
    "import pandas as pd\n",
    "import numpy as np\n",
    "import matplotlib.pyplot as plt\n",
    "from sklearn.preprocessing import LabelEncoder\n",
    "from sklearn.preprocessing import normalize\n",
    "from sklearn.linear_model import LinearRegression"
   ]
  },
  {
   "cell_type": "code",
   "execution_count": 3,
   "id": "c35278fc",
   "metadata": {},
   "outputs": [],
   "source": [
    "train_df=pd.read_csv('train.csv')\n",
    "test_df=pd.read_csv('test.csv')\n",
    "train_col=train_df.columns\n",
    "test_col=test_df.columns"
   ]
  },
  {
   "cell_type": "code",
   "execution_count": 4,
   "id": "cb47ce0c",
   "metadata": {},
   "outputs": [],
   "source": [
    "#train_df"
   ]
  },
  {
   "cell_type": "code",
   "execution_count": 5,
   "id": "d7badca8",
   "metadata": {},
   "outputs": [],
   "source": [
    "#Drop columns with null values more than 600\n",
    "\n",
    "pd.set_option('display.max_rows', 500)\n",
    "train_null=train_df.isnull().sum()\n",
    "\n",
    "for i in range(len(train_null)):\n",
    "    if(train_null[i]>600):\n",
    "        train_df.drop(train_col[i],axis=1,inplace=True)\n",
    "        test_df.drop(test_col[i],axis=1,inplace=True)\n",
    "train_col1=train_df.columns[0:-1]\n",
    "test_col1=test_df.columns"
   ]
  },
  {
   "cell_type": "code",
   "execution_count": 6,
   "id": "2d40e524",
   "metadata": {},
   "outputs": [],
   "source": [
    "#Adding mean value to null values\n",
    "train_null=train_df.isnull().sum()\n",
    "for i in range(len(train_null)):\n",
    "    if(train_null[i]>0):\n",
    "        if(type(train_df[train_col1[i]][0])!=str):\n",
    "            train_df[train_col1[i]]=train_df[train_col1[i]].replace(np.NaN, train_df[train_col1[i]].mean())\n",
    "            test_df[test_col1[i]]=test_df[test_col1[i]].replace(np.NaN, test_df[test_col1[i]].mean())"
   ]
  },
  {
   "cell_type": "code",
   "execution_count": 7,
   "id": "781cc77b",
   "metadata": {},
   "outputs": [],
   "source": [
    "#Applying label encoder\n",
    "le=LabelEncoder()\n",
    "for c in train_col1:\n",
    "    train_df[c]=le.fit_transform(train_df[c])       "
   ]
  },
  {
   "cell_type": "code",
   "execution_count": 8,
   "id": "27fec738",
   "metadata": {},
   "outputs": [],
   "source": [
    "train_corr=train_df.corr()\n",
    "train_corr_col=train_corr.columns\n",
    "#train_corr"
   ]
  },
  {
   "cell_type": "code",
   "execution_count": 9,
   "id": "fb56e202",
   "metadata": {},
   "outputs": [],
   "source": [
    "#dropping columns with correlation less than 0.2\n",
    "for i in range(len(train_col1)):\n",
    "    if(train_corr['SalePrice'][i]<0):\n",
    "        train_df.drop(train_col1[i],axis=1,inplace=True)\n",
    "        test_df.drop(train_col1[i],axis=1,inplace=True)\n",
    "train_col2=train_df.columns\n",
    "test_col2=test_df.columns"
   ]
  },
  {
   "cell_type": "code",
   "execution_count": 10,
   "id": "27e22279",
   "metadata": {},
   "outputs": [],
   "source": [
    "X_train=train_df.iloc[:,:-1]\n",
    "Y_train=train_df.iloc[:,-1]"
   ]
  },
  {
   "cell_type": "code",
   "execution_count": 11,
   "id": "978e1009",
   "metadata": {},
   "outputs": [
    {
     "data": {
      "text/plain": [
       "LinearRegression()"
      ]
     },
     "execution_count": 11,
     "metadata": {},
     "output_type": "execute_result"
    }
   ],
   "source": [
    "lr=LinearRegression()\n",
    "lr.fit(X_train,Y_train)"
   ]
  },
  {
   "cell_type": "code",
   "execution_count": 12,
   "id": "9c8a8b5d",
   "metadata": {},
   "outputs": [],
   "source": [
    "for i in range(len(test_col2)):\n",
    "    test_df[test_col2[i]]=le.fit_transform(test_df[test_col2[i]]) "
   ]
  },
  {
   "cell_type": "code",
   "execution_count": 13,
   "id": "77f6e9c5",
   "metadata": {},
   "outputs": [
    {
     "data": {
      "text/plain": [
       "array([128100.41402032, 177790.66635102, 184566.88841063, ...,\n",
       "       175192.52148668, 110279.5449421 , 261454.93352237])"
      ]
     },
     "execution_count": 13,
     "metadata": {},
     "output_type": "execute_result"
    }
   ],
   "source": [
    "y_pred=lr.predict(test_df)\n",
    "y_pred"
   ]
  },
  {
   "cell_type": "code",
   "execution_count": 14,
   "id": "ef67e07d",
   "metadata": {},
   "outputs": [],
   "source": [
    "df_test=pd.read_csv('test.csv')"
   ]
  },
  {
   "cell_type": "code",
   "execution_count": 15,
   "id": "c15a450d",
   "metadata": {},
   "outputs": [
    {
     "data": {
      "text/html": [
       "<div>\n",
       "<style scoped>\n",
       "    .dataframe tbody tr th:only-of-type {\n",
       "        vertical-align: middle;\n",
       "    }\n",
       "\n",
       "    .dataframe tbody tr th {\n",
       "        vertical-align: top;\n",
       "    }\n",
       "\n",
       "    .dataframe thead th {\n",
       "        text-align: right;\n",
       "    }\n",
       "</style>\n",
       "<table border=\"1\" class=\"dataframe\">\n",
       "  <thead>\n",
       "    <tr style=\"text-align: right;\">\n",
       "      <th></th>\n",
       "      <th>Id</th>\n",
       "      <th>SalePrice</th>\n",
       "    </tr>\n",
       "  </thead>\n",
       "  <tbody>\n",
       "    <tr>\n",
       "      <th>0</th>\n",
       "      <td>1461</td>\n",
       "      <td>128100.414020</td>\n",
       "    </tr>\n",
       "    <tr>\n",
       "      <th>1</th>\n",
       "      <td>1462</td>\n",
       "      <td>177790.666351</td>\n",
       "    </tr>\n",
       "    <tr>\n",
       "      <th>2</th>\n",
       "      <td>1463</td>\n",
       "      <td>184566.888411</td>\n",
       "    </tr>\n",
       "    <tr>\n",
       "      <th>3</th>\n",
       "      <td>1464</td>\n",
       "      <td>188920.267437</td>\n",
       "    </tr>\n",
       "    <tr>\n",
       "      <th>4</th>\n",
       "      <td>1465</td>\n",
       "      <td>199914.769951</td>\n",
       "    </tr>\n",
       "  </tbody>\n",
       "</table>\n",
       "</div>"
      ],
      "text/plain": [
       "     Id      SalePrice\n",
       "0  1461  128100.414020\n",
       "1  1462  177790.666351\n",
       "2  1463  184566.888411\n",
       "3  1464  188920.267437\n",
       "4  1465  199914.769951"
      ]
     },
     "execution_count": 15,
     "metadata": {},
     "output_type": "execute_result"
    }
   ],
   "source": [
    "#make the submission data frame\n",
    "submission = {\n",
    "    'Id': df_test.Id.values,\n",
    "    'SalePrice': y_pred\n",
    "}\n",
    "solution = pd.DataFrame(submission)\n",
    "solution.head()"
   ]
  },
  {
   "cell_type": "code",
   "execution_count": 31,
   "id": "8bd8c947",
   "metadata": {},
   "outputs": [],
   "source": [
    "solution.to_csv('submission.csv',index=False)"
   ]
  },
  {
   "cell_type": "markdown",
   "id": "221b5bc5",
   "metadata": {},
   "source": [
    "# Regression tree"
   ]
  },
  {
   "cell_type": "code",
   "execution_count": 16,
   "id": "1e9e90ad",
   "metadata": {},
   "outputs": [],
   "source": [
    "from sklearn.tree import DecisionTreeRegressor"
   ]
  },
  {
   "cell_type": "code",
   "execution_count": 54,
   "id": "7caba4f2",
   "metadata": {},
   "outputs": [
    {
     "data": {
      "text/plain": [
       "DecisionTreeRegressor(min_samples_leaf=5, min_samples_split=20)"
      ]
     },
     "execution_count": 54,
     "metadata": {},
     "output_type": "execute_result"
    }
   ],
   "source": [
    "RegressionTree=DecisionTreeRegressor(min_samples_split=20,min_samples_leaf=5)\n",
    "RegressionTree.fit(X_train,Y_train)"
   ]
  },
  {
   "cell_type": "code",
   "execution_count": 55,
   "id": "5644dc50",
   "metadata": {},
   "outputs": [],
   "source": [
    "Y_prediction_regression_tree=RegressionTree.predict(test_df)"
   ]
  },
  {
   "cell_type": "code",
   "execution_count": 56,
   "id": "c5d6df2d",
   "metadata": {},
   "outputs": [
    {
     "data": {
      "text/plain": [
       "array([155666.66666667, 150200.        , 195975.        , ...,\n",
       "       150200.        , 133611.76470588, 230530.76923077])"
      ]
     },
     "execution_count": 56,
     "metadata": {},
     "output_type": "execute_result"
    }
   ],
   "source": [
    "Y_prediction_regression_tree"
   ]
  },
  {
   "cell_type": "code",
   "execution_count": 57,
   "id": "71e6ea2f",
   "metadata": {},
   "outputs": [],
   "source": [
    "df_test=pd.read_csv('test.csv')"
   ]
  },
  {
   "cell_type": "code",
   "execution_count": 58,
   "id": "06e41dfd",
   "metadata": {},
   "outputs": [
    {
     "data": {
      "text/html": [
       "<div>\n",
       "<style scoped>\n",
       "    .dataframe tbody tr th:only-of-type {\n",
       "        vertical-align: middle;\n",
       "    }\n",
       "\n",
       "    .dataframe tbody tr th {\n",
       "        vertical-align: top;\n",
       "    }\n",
       "\n",
       "    .dataframe thead th {\n",
       "        text-align: right;\n",
       "    }\n",
       "</style>\n",
       "<table border=\"1\" class=\"dataframe\">\n",
       "  <thead>\n",
       "    <tr style=\"text-align: right;\">\n",
       "      <th></th>\n",
       "      <th>Id</th>\n",
       "      <th>SalePrice</th>\n",
       "    </tr>\n",
       "  </thead>\n",
       "  <tbody>\n",
       "    <tr>\n",
       "      <th>0</th>\n",
       "      <td>1461</td>\n",
       "      <td>155666.666667</td>\n",
       "    </tr>\n",
       "    <tr>\n",
       "      <th>1</th>\n",
       "      <td>1462</td>\n",
       "      <td>150200.000000</td>\n",
       "    </tr>\n",
       "    <tr>\n",
       "      <th>2</th>\n",
       "      <td>1463</td>\n",
       "      <td>195975.000000</td>\n",
       "    </tr>\n",
       "    <tr>\n",
       "      <th>3</th>\n",
       "      <td>1464</td>\n",
       "      <td>192226.666667</td>\n",
       "    </tr>\n",
       "    <tr>\n",
       "      <th>4</th>\n",
       "      <td>1465</td>\n",
       "      <td>213722.285714</td>\n",
       "    </tr>\n",
       "  </tbody>\n",
       "</table>\n",
       "</div>"
      ],
      "text/plain": [
       "     Id      SalePrice\n",
       "0  1461  155666.666667\n",
       "1  1462  150200.000000\n",
       "2  1463  195975.000000\n",
       "3  1464  192226.666667\n",
       "4  1465  213722.285714"
      ]
     },
     "execution_count": 58,
     "metadata": {},
     "output_type": "execute_result"
    }
   ],
   "source": [
    "#make the submission data frame\n",
    "submissionRT = {\n",
    "    'Id': df_test.Id.values,\n",
    "    'SalePrice': Y_prediction_regression_tree\n",
    "}\n",
    "solutionRT = pd.DataFrame(submissionRT)\n",
    "solutionRT.head()"
   ]
  },
  {
   "cell_type": "code",
   "execution_count": 59,
   "id": "5f19afdb",
   "metadata": {},
   "outputs": [],
   "source": [
    "solutionRT.to_csv('submissionRT.csv',index=False)"
   ]
  },
  {
   "cell_type": "code",
   "execution_count": null,
   "id": "8e32255e",
   "metadata": {},
   "outputs": [],
   "source": []
  }
 ],
 "metadata": {
  "kernelspec": {
   "display_name": "Python 3 (ipykernel)",
   "language": "python",
   "name": "python3"
  },
  "language_info": {
   "codemirror_mode": {
    "name": "ipython",
    "version": 3
   },
   "file_extension": ".py",
   "mimetype": "text/x-python",
   "name": "python",
   "nbconvert_exporter": "python",
   "pygments_lexer": "ipython3",
   "version": "3.9.12"
  }
 },
 "nbformat": 4,
 "nbformat_minor": 5
}
